{
 "cells": [
  {
   "cell_type": "code",
   "execution_count": 15,
   "metadata": {},
   "outputs": [
    {
     "name": "stdout",
     "output_type": "stream",
     "text": [
      "[20] Mengrui Han, Applied Computational Science & Engineering MSc at Imperial College London\n",
      "[19] Zhaoheng Jiang, Applied Computational Science & Engineering MSc at Imperial College London\n",
      "[18] Wei Huang, Master's in Civil Engineering at Politecnico di Milano, Italy\n",
      "[17] Lu Li, Applied Computational Science & Engineering MSc at Imperial College London\n",
      "[16] Ma Yujie, Applied Computational Science & Engineering MSc at Imperial College London\n",
      "[15] Yifan Zhang, Applied Computational Science & Engineering MSc at Imperial College London\n",
      "[14] Bangrui Zheng, Applied Computational Science & Engineering MSc at Imperial College London\n",
      "[13] Nikolina Pieri, Applied Computational Science & Engineering MSc at Imperial College London\n",
      "[12] Yunjie Piao, Applied Computational Science & Engineering MSc at Imperial College London\n",
      "[11] Tong Zheng, Applied Computational Science & Engineering MSc at Imperial College London\n",
      "[10] Xin Zhong, Applied Computational Science & Engineering MSc at Imperial College London\n",
      "[9] Gabriel Atak, Petroleum Engineering MSc at Imperial College London\n",
      "[8] Michael Trapp, Applied Computational Science & Engineering MSc at Imperial College London\n",
      "[7] Edward Clark, Geophysics MSci at Imperial College London\n",
      "[6] Tan Yun Zhou, Geophysics MSci at Imperial College London\n",
      "[5] Christopher Bradley, Physics MSci at Imperial College London\n",
      "[4] William Andrews, Geophysics MSci at Imperial College London\n",
      "[3] Almudena Parente, Engineering MSc at Technical University of Madrid\n",
      "[2] Matthew Hayward, Geophysics MSci at Imperial College London\n",
      "[1] Rachael Fletcher, Geology MSci at Imperial College London\n"
     ]
    }
   ],
   "source": [
    "import json\n",
    "\n",
    "# Specify the file path\n",
    "file_path = \"../json/students.json\"\n",
    "\n",
    "# Read the JSON file\n",
    "with open(file_path, \"r\") as file:\n",
    "    data = json.load(file)\n",
    "\n",
    "for student in data:\n",
    "    print(f\"[{student['id']}] {student['name']}, {student['degree']} at {student['institution']}\")\n"
   ]
  },
  {
   "cell_type": "code",
   "execution_count": 17,
   "metadata": {},
   "outputs": [
    {
     "name": "stdout",
     "output_type": "stream",
     "text": [
      "[20] 9th European Congress on Computational Methods in Applied Sciences and Engineering, Lisbon Congress Centre, Lisbon, Portugal, 3-7 June 2024 - Invited session organiser, chair and speaker\n",
      "[19] European Geosciences Union General Assembly, Austria Center Vienna, Vienna, Austria, 14-19 April 2024 - Speaker\n",
      "[18] American Geophysical Union Fall Meeting, Moscone Center, San Francisco, California, 11-15 December 2023 - Speaker\n",
      "[17] 17th U. S. National Congress on Computational Mechanics, Albuquerque, New Mexico, 23-27 July 2023 - Invited session organiser, chair and speaker\n",
      "[16] 15th World Congress on Computational Mechanics, Virtual Congress (Yokohama, Japan), 1-5 August 2022 - Invited session organiser, chair and speaker\n",
      "[15] 14th World Congress on Computational Mechanics, Virtual Congress (Paris, France), 11-15 January 2021 - Invited session organiser, chair and speaker\n",
      "[14] 8th International Conference on Discrete Element Methods, University of Twente, Enschede, The Netherlands, 22-26 July 2019 - Presentation\n",
      "[13] European Geothermal Congress 2019, World Forum, The Hague, The Netherlands, 13th June 2019 - H2020 SURE meeting\n",
      "[12] 13th World Congress on Computational Mechanics, Marriott Marquis, New York City, New York, 22-27 July 2018 - Presentation\n",
      "[11] 5th International Conference on Particle-Based Methods, University of Hannover, Hannover, Germany, 26-28 September 2017 - Invited presentation\n",
      "[10] 7th International Conference on Coupled Problems in Science and Engineering, Rodos Palace International Convention Center, Rhodes, Greece, 12-14 June 2017 - Invited presentation\n",
      "[9] 7th International Conference on Discrete Element Methods, Dalian University of Technology, Dalian, China, 1-4 August 2016 - Presentation **Best Student Paper Award**\n",
      "[8] IFPRI Robert Pfeffer Symposium and UK Particle Technology Forum 2016, University of Surrey, Guildford, United Kingdom, 15-16 June 2016 - Presentation\n",
      "[7] Johnson Matthey Academic Conference 2016, Imago conference centre, Loughborough University, Loughborough, United Kingdom, 12-13 April 2015 - Presentation\n",
      "[6] 4th International Conference on Particle-Based Methods, Technical University of Catalonia, Barcelona, Spain, 28-30 September 2015 - Presentation\n",
      "[5] Johnson Matthey Academic Conference 2015, Imago conference centre, Loughborough University, Loughborough, United Kingdom, 8-9 April 2015 - Poster presentation\n",
      "[4] 12th UK Particle Technology Forum 2014, Manchester conference centre, Manchester, United Kingdom, 16-17 September 2014 - Poster presentation\n",
      "[3] HERMES 2014, Cumberland Lodge, Windsor, United Kingdom, 25-28 July 2014 - Poster presentation\n",
      "[2] Robert Pfeffer Symposium, School of Engineering, University of Edinburgh, Edinburgh, United Kingdom, 25 June 2014 - Poster presentation\n",
      "[1] Johnson Matthey Academic Conference 2014, Imago conference centre, Loughborough University, Loughborough, United Kingdom, 15-16 April 2014 - Poster presentation\n"
     ]
    }
   ],
   "source": [
    "import json\n",
    "\n",
    "# Specify the file path\n",
    "file_path = \"../json/conferences.json\"\n",
    "\n",
    "# Read the JSON file\n",
    "with open(file_path, \"r\") as file:\n",
    "    data = json.load(file)\n",
    "\n",
    "for conference in data:\n",
    "    print(f\"[{conference['id']}] {conference['name']}, {conference['location']}, {conference['date']} - {conference['contribution']}\")"
   ]
  },
  {
   "cell_type": "code",
   "execution_count": null,
   "metadata": {},
   "outputs": [],
   "source": []
  }
 ],
 "metadata": {
  "kernelspec": {
   "display_name": "ado",
   "language": "python",
   "name": "python3"
  },
  "language_info": {
   "codemirror_mode": {
    "name": "ipython",
    "version": 3
   },
   "file_extension": ".py",
   "mimetype": "text/x-python",
   "name": "python",
   "nbconvert_exporter": "python",
   "pygments_lexer": "ipython3",
   "version": "3.9.16"
  }
 },
 "nbformat": 4,
 "nbformat_minor": 2
}
